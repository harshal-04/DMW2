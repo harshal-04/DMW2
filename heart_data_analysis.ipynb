{
 "cells": [
  {
   "cell_type": "code",
   "execution_count": 89,
   "id": "f2c420ff",
   "metadata": {},
   "outputs": [
    {
     "name": "stdout",
     "output_type": "stream",
     "text": [
      "   age  sex  cp  trestbps  chol  fbs  restecg  thalach  exang  oldpeak  slope  \\\n",
      "0   63    1   3       145   233    1        0      150      0      2.3      0   \n",
      "1   37    1   2       130   250    0        1      187      0      3.5      0   \n",
      "2   41    0   1       130   204    0        0      172      0      1.4      2   \n",
      "3   56    1   1       120   236    0        1      178      0      0.8      2   \n",
      "4   57    0   0       120   354    0        1      163      1      0.6      2   \n",
      "\n",
      "   ca  thal  target  \n",
      "0   0     1       1  \n",
      "1   0     2       1  \n",
      "2   0     2       1  \n",
      "3   0     2       1  \n",
      "4   0     2       1  \n",
      "Columns in dataset:\n",
      "Index(['age', 'sex', 'cp', 'trestbps', 'chol', 'fbs', 'restecg', 'thalach',\n",
      "       'exang', 'oldpeak', 'slope', 'ca', 'thal', 'target'],\n",
      "      dtype='object')\n"
     ]
    }
   ],
   "source": [
    "import pandas as pd\n",
    "import numpy as np\n",
    "\n",
    "# Load the dataset (update path if needed)\n",
    "df = pd.read_csv('heart.csv')\n",
    "\n",
    "# Show the first 5 rows to understand data structure\n",
    "print(df.head())\n",
    "\n",
    "# Print column names to know exact attribute names (important for next steps)\n",
    "print(\"Columns in dataset:\")\n",
    "print(df.columns)\n"
   ]
  },
  {
   "cell_type": "code",
   "execution_count": 90,
   "id": "156b88fd",
   "metadata": {},
   "outputs": [
    {
     "name": "stdout",
     "output_type": "stream",
     "text": [
      "\n",
      "Variance of numerical attributes:\n",
      "age           82.484558\n",
      "sex            0.217166\n",
      "cp             1.065132\n",
      "trestbps     307.586453\n",
      "chol        2686.426748\n",
      "fbs            0.126877\n",
      "restecg        0.276528\n",
      "thalach      524.646406\n",
      "exang          0.220707\n",
      "oldpeak        1.348095\n",
      "slope          0.379735\n",
      "ca             1.045724\n",
      "thal           0.374883\n",
      "target         0.248836\n",
      "dtype: float64\n",
      "\n",
      "Standard deviation of numerical attributes:\n",
      "age          9.082101\n",
      "sex          0.466011\n",
      "cp           1.032052\n",
      "trestbps    17.538143\n",
      "chol        51.830751\n",
      "fbs          0.356198\n",
      "restecg      0.525860\n",
      "thalach     22.905161\n",
      "exang        0.469794\n",
      "oldpeak      1.161075\n",
      "slope        0.616226\n",
      "ca           1.022606\n",
      "thal         0.612277\n",
      "target       0.498835\n",
      "dtype: float64\n"
     ]
    }
   ],
   "source": [
    "# Select numerical columns\n",
    "numerical_cols = df.select_dtypes(include='number').columns\n",
    "\n",
    "# Calculate variance and std deviation\n",
    "variance = df[numerical_cols].var()\n",
    "std_dev = df[numerical_cols].std()\n",
    "\n",
    "print(\"\\nVariance of numerical attributes:\")\n",
    "print(variance)\n",
    "\n",
    "print(\"\\nStandard deviation of numerical attributes:\")\n",
    "print(std_dev)\n"
   ]
  },
  {
   "cell_type": "code",
   "execution_count": 91,
   "id": "9f08e32a",
   "metadata": {},
   "outputs": [
    {
     "name": "stdout",
     "output_type": "stream",
     "text": [
      "\n",
      "Covariance matrix:\n",
      "                 age       sex        cp    trestbps         chol       fbs  \\\n",
      "age        82.484558 -0.416661 -0.643499   44.495902   100.585076  0.392433   \n",
      "sex        -0.416661  0.217166 -0.023736   -0.463970    -4.780309  0.007475   \n",
      "cp         -0.643499 -0.023736  1.065132    0.861714    -4.113774  0.034719   \n",
      "trestbps   44.495902 -0.463970  0.861714  307.586453   111.967215  1.109042   \n",
      "chol      100.585076 -4.780309 -4.113774  111.967215  2686.426748  0.245427   \n",
      "fbs         0.392433  0.007475  0.034719    1.109042     0.245427  0.126877   \n",
      "restecg    -0.555013 -0.014261  0.024108   -1.052324    -4.116703 -0.015769   \n",
      "thalach   -82.903318 -0.469871  6.991618  -18.759131   -11.800494 -0.069897   \n",
      "exang       0.413022  0.031014 -0.191168    0.557111     1.631991  0.004295   \n",
      "oldpeak     2.214583  0.051993 -0.178821    3.934486     3.246794  0.002377   \n",
      "slope      -0.944791 -0.008819  0.076137   -1.312832    -0.128964 -0.013147   \n",
      "ca          2.566356  0.056357 -0.191080    1.818373     3.737252  0.050259   \n",
      "thal        0.378139  0.059930 -0.102201    0.668022     3.135488 -0.006983   \n",
      "target     -1.021343 -0.065307  0.223330   -1.267950    -2.203855 -0.004983   \n",
      "\n",
      "           restecg     thalach     exang   oldpeak     slope        ca  \\\n",
      "age      -0.555013  -82.903318  0.413022  2.214583 -0.944791  2.566356   \n",
      "sex      -0.014261   -0.469871  0.031014  0.051993 -0.008819  0.056357   \n",
      "cp        0.024108    6.991618 -0.191168 -0.178821  0.076137 -0.191080   \n",
      "trestbps -1.052324  -18.759131  0.557111  3.934486 -1.312832  1.818373   \n",
      "chol     -4.116703  -11.800494  1.631991  3.246794 -0.128964  3.737252   \n",
      "fbs      -0.015769   -0.069897  0.004295  0.002377 -0.013147  0.050259   \n",
      "restecg   0.276528    0.531462 -0.017474 -0.035883  0.030151 -0.038741   \n",
      "thalach   0.531462  524.646406 -4.076290 -9.153518  5.459369 -4.993235   \n",
      "exang    -0.017474   -4.076290  0.220707  0.157216 -0.074618  0.055603   \n",
      "oldpeak  -0.035883   -9.153518  0.157216  1.348095 -0.413219  0.264396   \n",
      "slope     0.030151    5.459369 -0.074618 -0.413219  0.379735 -0.050510   \n",
      "ca       -0.038741   -4.993235  0.055603  0.264396 -0.050510  1.045724   \n",
      "thal     -0.003858   -1.352491  0.059472  0.149462 -0.039527  0.095065   \n",
      "target    0.035998    4.818766 -0.102354 -0.249452  0.106321 -0.199823   \n",
      "\n",
      "              thal    target  \n",
      "age       0.378139 -1.021343  \n",
      "sex       0.059930 -0.065307  \n",
      "cp       -0.102201  0.223330  \n",
      "trestbps  0.668022 -1.267950  \n",
      "chol      3.135488 -2.203855  \n",
      "fbs      -0.006983 -0.004983  \n",
      "restecg  -0.003858  0.035998  \n",
      "thalach  -1.352491  4.818766  \n",
      "exang     0.059472 -0.102354  \n",
      "oldpeak   0.149462 -0.249452  \n",
      "slope    -0.039527  0.106321  \n",
      "ca        0.095065 -0.199823  \n",
      "thal      0.374883 -0.105075  \n",
      "target   -0.105075  0.248836  \n",
      "\n",
      "Correlation matrix:\n",
      "               age       sex        cp  trestbps      chol       fbs  \\\n",
      "age       1.000000 -0.098447 -0.068653  0.279351  0.213678  0.121308   \n",
      "sex      -0.098447  1.000000 -0.049353 -0.056769 -0.197912  0.045032   \n",
      "cp       -0.068653 -0.049353  1.000000  0.047608 -0.076904  0.094444   \n",
      "trestbps  0.279351 -0.056769  0.047608  1.000000  0.123174  0.177531   \n",
      "chol      0.213678 -0.197912 -0.076904  0.123174  1.000000  0.013294   \n",
      "fbs       0.121308  0.045032  0.094444  0.177531  0.013294  1.000000   \n",
      "restecg  -0.116211 -0.058196  0.044421 -0.114103 -0.151040 -0.084189   \n",
      "thalach  -0.398522 -0.044020  0.295762 -0.046698 -0.009940 -0.008567   \n",
      "exang     0.096801  0.141664 -0.394280  0.067616  0.067023  0.025665   \n",
      "oldpeak   0.210013  0.096093 -0.149230  0.193216  0.053952  0.005747   \n",
      "slope    -0.168814 -0.030711  0.119717 -0.121475 -0.004038 -0.059894   \n",
      "ca        0.276326  0.118261 -0.181053  0.101389  0.070511  0.137979   \n",
      "thal      0.068001  0.210041 -0.161736  0.062210  0.098803 -0.032019   \n",
      "target   -0.225439 -0.280937  0.433798 -0.144931 -0.085239 -0.028046   \n",
      "\n",
      "           restecg   thalach     exang   oldpeak     slope        ca  \\\n",
      "age      -0.116211 -0.398522  0.096801  0.210013 -0.168814  0.276326   \n",
      "sex      -0.058196 -0.044020  0.141664  0.096093 -0.030711  0.118261   \n",
      "cp        0.044421  0.295762 -0.394280 -0.149230  0.119717 -0.181053   \n",
      "trestbps -0.114103 -0.046698  0.067616  0.193216 -0.121475  0.101389   \n",
      "chol     -0.151040 -0.009940  0.067023  0.053952 -0.004038  0.070511   \n",
      "fbs      -0.084189 -0.008567  0.025665  0.005747 -0.059894  0.137979   \n",
      "restecg   1.000000  0.044123 -0.070733 -0.058770  0.093045 -0.072042   \n",
      "thalach   0.044123  1.000000 -0.378812 -0.344187  0.386784 -0.213177   \n",
      "exang    -0.070733 -0.378812  1.000000  0.288223 -0.257748  0.115739   \n",
      "oldpeak  -0.058770 -0.344187  0.288223  1.000000 -0.577537  0.222682   \n",
      "slope     0.093045  0.386784 -0.257748 -0.577537  1.000000 -0.080155   \n",
      "ca       -0.072042 -0.213177  0.115739  0.222682 -0.080155  1.000000   \n",
      "thal     -0.011981 -0.096439  0.206754  0.210244 -0.104764  0.151832   \n",
      "target    0.137230  0.421741 -0.436757 -0.430696  0.345877 -0.391724   \n",
      "\n",
      "              thal    target  \n",
      "age       0.068001 -0.225439  \n",
      "sex       0.210041 -0.280937  \n",
      "cp       -0.161736  0.433798  \n",
      "trestbps  0.062210 -0.144931  \n",
      "chol      0.098803 -0.085239  \n",
      "fbs      -0.032019 -0.028046  \n",
      "restecg  -0.011981  0.137230  \n",
      "thalach  -0.096439  0.421741  \n",
      "exang     0.206754 -0.436757  \n",
      "oldpeak   0.210244 -0.430696  \n",
      "slope    -0.104764  0.345877  \n",
      "ca        0.151832 -0.391724  \n",
      "thal      1.000000 -0.344029  \n",
      "target   -0.344029  1.000000  \n"
     ]
    }
   ],
   "source": [
    "# Covariance matrix\n",
    "cov_matrix = df[numerical_cols].cov()\n",
    "print(\"\\nCovariance matrix:\")\n",
    "print(cov_matrix)\n",
    "\n",
    "# Correlation matrix\n",
    "corr_matrix = df[numerical_cols].corr()\n",
    "print(\"\\nCorrelation matrix:\")\n",
    "print(corr_matrix)\n"
   ]
  },
  {
   "cell_type": "code",
   "execution_count": 92,
   "id": "c597c56c",
   "metadata": {},
   "outputs": [
    {
     "name": "stdout",
     "output_type": "stream",
     "text": [
      "\n",
      "Highly correlated feature pairs (|corr| > 0.8):\n"
     ]
    }
   ],
   "source": [
    "threshold = 0.8\n",
    "high_corr_pairs = []\n",
    "\n",
    "for i in range(len(corr_matrix.columns)):\n",
    "    for j in range(i+1, len(corr_matrix.columns)):\n",
    "        corr_val = corr_matrix.iloc[i,j]\n",
    "        if abs(corr_val) > threshold:\n",
    "            high_corr_pairs.append((corr_matrix.columns[i], corr_matrix.columns[j], corr_val))\n",
    "\n",
    "print(\"\\nHighly correlated feature pairs (|corr| > 0.8):\")\n",
    "for pair in high_corr_pairs:\n",
    "    print(pair)\n"
   ]
  },
  {
   "cell_type": "code",
   "execution_count": 93,
   "id": "28abed98",
   "metadata": {},
   "outputs": [
    {
     "name": "stdout",
     "output_type": "stream",
     "text": [
      "\n",
      "Low variance (near-constant) features:\n",
      "[]\n"
     ]
    }
   ],
   "source": [
    "low_variance_features = variance[variance < 0.01].index.tolist()\n",
    "print(\"\\nLow variance (near-constant) features:\")\n",
    "print(low_variance_features)\n"
   ]
  },
  {
   "cell_type": "code",
   "execution_count": 94,
   "id": "6fbca303",
   "metadata": {},
   "outputs": [
    {
     "name": "stdout",
     "output_type": "stream",
     "text": [
      "\n",
      "Age discretization sample:\n",
      "   age  age_binned\n",
      "0   63           3\n",
      "1   37           0\n",
      "2   41           0\n",
      "3   56           2\n",
      "4   57           2\n",
      "5   57           2\n",
      "6   56           2\n",
      "7   44           0\n",
      "8   52           1\n",
      "9   57           2\n"
     ]
    }
   ],
   "source": [
    "bins = 4\n",
    "df['age_binned'] = pd.qcut(df['age'], q=bins, labels=False)\n",
    "\n",
    "print(\"\\nAge discretization sample:\")\n",
    "print(df[['age', 'age_binned']].head(10))\n"
   ]
  },
  {
   "cell_type": "code",
   "execution_count": 95,
   "id": "8bfa2249",
   "metadata": {},
   "outputs": [
    {
     "name": "stdout",
     "output_type": "stream",
     "text": [
      "\n",
      "Normalized values sample:\n",
      "   trestbps  chol  thalach  trestbps_minmax  chol_minmax  thalach_minmax  \\\n",
      "0       145   233      150         0.481132     0.244292        0.603053   \n",
      "1       130   250      187         0.339623     0.283105        0.885496   \n",
      "2       130   204      172         0.339623     0.178082        0.770992   \n",
      "3       120   236      178         0.245283     0.251142        0.816794   \n",
      "4       120   354      163         0.245283     0.520548        0.702290   \n",
      "\n",
      "   trestbps_zscore  chol_zscore  thalach_zscore  trestbps_decimal  \\\n",
      "0         0.762694    -0.255910        0.015417             0.145   \n",
      "1        -0.092585     0.072080        1.630774             0.130   \n",
      "2        -0.092585    -0.815424        0.975900             0.130   \n",
      "3        -0.662770    -0.198030        1.237849             0.120   \n",
      "4        -0.662770     2.078611        0.582975             0.120   \n",
      "\n",
      "   chol_decimal  thalach_decimal  \n",
      "0         0.233            0.150  \n",
      "1         0.250            0.187  \n",
      "2         0.204            0.172  \n",
      "3         0.236            0.178  \n",
      "4         0.354            0.163  \n"
     ]
    }
   ],
   "source": [
    "# Define normalization functions\n",
    "\n",
    "def min_max_norm(col):\n",
    "    return (col - col.min()) / (col.max() - col.min())\n",
    "\n",
    "def z_score_norm(col):\n",
    "    return (col - col.mean()) / col.std()\n",
    "\n",
    "def decimal_scaling_norm(col):\n",
    "    max_abs = max(abs(col.min()), abs(col.max()))\n",
    "    j = len(str(int(max_abs)))\n",
    "    return col / (10 ** j)\n",
    "\n",
    "# Use correct attribute names from dataset (update if needed)\n",
    "attributes = ['trestbps', 'chol', 'thalach']\n",
    "\n",
    "for attr in attributes:\n",
    "    df[f'{attr}_minmax'] = min_max_norm(df[attr])\n",
    "    df[f'{attr}_zscore'] = z_score_norm(df[attr])\n",
    "    df[f'{attr}_decimal'] = decimal_scaling_norm(df[attr])\n",
    "\n",
    "print(\"\\nNormalized values sample:\")\n",
    "print(df[[*attributes, *[f'{a}_minmax' for a in attributes], *[f'{a}_zscore' for a in attributes], *[f'{a}_decimal' for a in attributes]]].head())\n"
   ]
  }
 ],
 "metadata": {
  "kernelspec": {
   "display_name": "base",
   "language": "python",
   "name": "python3"
  },
  "language_info": {
   "codemirror_mode": {
    "name": "ipython",
    "version": 3
   },
   "file_extension": ".py",
   "mimetype": "text/x-python",
   "name": "python",
   "nbconvert_exporter": "python",
   "pygments_lexer": "ipython3",
   "version": "3.12.7"
  }
 },
 "nbformat": 4,
 "nbformat_minor": 5
}
